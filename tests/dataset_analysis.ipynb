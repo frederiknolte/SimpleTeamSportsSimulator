{
 "cells": [
  {
   "cell_type": "code",
   "execution_count": 5,
   "outputs": [],
   "source": [
    "import os\n",
    "import h5py\n",
    "import numpy as np\n",
    "import tqdm"
   ],
   "metadata": {
    "collapsed": false,
    "pycharm": {
     "name": "#%%\n"
    }
   }
  },
  {
   "cell_type": "code",
   "execution_count": 4,
   "outputs": [],
   "source": [
    "def load_list_dict_h5py(fname):\n",
    "    \"\"\"Restore list of dictionaries containing numpy arrays from h5py file.\"\"\"\n",
    "    print(\"loading dataset:\", fname)\n",
    "    array_dict = list()\n",
    "    with h5py.File(fname, \"r\") as hf:\n",
    "        for i, grp in tqdm.tqdm(enumerate(hf.keys())):\n",
    "            array_dict.append(dict())\n",
    "            grp = str(i)\n",
    "            for key in hf[grp].keys():\n",
    "                if key.startswith(\"info_\"):\n",
    "                    if \"info\" not in array_dict[i].keys():\n",
    "                        array_dict[i][\"info\"] = {}\n",
    "                    array_dict[i][\"info\"][key[5:]] = hf[grp][key][:]\n",
    "                else:\n",
    "                    array_dict[i][key] = hf[grp][key][:]\n",
    "    return array_dict"
   ],
   "metadata": {
    "collapsed": false,
    "pycharm": {
     "name": "#%%\n"
    }
   }
  },
  {
   "cell_type": "code",
   "execution_count": 6,
   "outputs": [
    {
     "name": "stdout",
     "output_type": "stream",
     "text": [
      "loading dataset: datasets/2simple_v_2simple_40/train.h5\n"
     ]
    },
    {
     "name": "stderr",
     "output_type": "stream",
     "text": [
      "40it [00:00, 663.49it/s]\n"
     ]
    }
   ],
   "source": [
    "dataset = load_list_dict_h5py('datasets/2simple_v_2simple_40/train.h5')"
   ],
   "metadata": {
    "collapsed": false,
    "pycharm": {
     "name": "#%%\n"
    }
   }
  },
  {
   "cell_type": "markdown",
   "source": [
    "Assess whether multiple episodes are the same"
   ],
   "metadata": {
    "collapsed": false,
    "pycharm": {
     "name": "#%% md\n"
    }
   }
  },
  {
   "cell_type": "code",
   "execution_count": 12,
   "outputs": [
    {
     "name": "stdout",
     "output_type": "stream",
     "text": [
      "First frame of 32 and 34 is equal\n",
      "All frames of 32 and 34 are equal\n"
     ]
    },
    {
     "name": "stderr",
     "output_type": "stream",
     "text": [
      "/var/folders/3s/90h8t5cd7fn0y_2189zmkz9h0000gn/T/ipykernel_69219/4046776678.py:5: DeprecationWarning: elementwise comparison failed; this will raise an error in the future.\n",
      "  if np.all(dataset[i]['obs'] == dataset[j]['obs']):\n"
     ]
    }
   ],
   "source": [
    "for i in range(len(dataset)):\n",
    "    for j in range(i + 1, len(dataset)):\n",
    "        if np.all(dataset[i]['obs'][0] == dataset[j]['obs'][0]):\n",
    "            print(f'First frame of {i} and {j} is equal')\n",
    "        if np.all(dataset[i]['obs'] == dataset[j]['obs']):\n",
    "            print(f'All frames of {i} and {j} are equal')"
   ],
   "metadata": {
    "collapsed": false,
    "pycharm": {
     "name": "#%%\n"
    }
   }
  },
  {
   "cell_type": "code",
   "execution_count": null,
   "outputs": [],
   "source": [],
   "metadata": {
    "collapsed": false,
    "pycharm": {
     "name": "#%%\n"
    }
   }
  }
 ],
 "metadata": {
  "kernelspec": {
   "display_name": "Python 3",
   "language": "python",
   "name": "python3"
  },
  "language_info": {
   "codemirror_mode": {
    "name": "ipython",
    "version": 2
   },
   "file_extension": ".py",
   "mimetype": "text/x-python",
   "name": "python",
   "nbconvert_exporter": "python",
   "pygments_lexer": "ipython2",
   "version": "2.7.6"
  }
 },
 "nbformat": 4,
 "nbformat_minor": 0
}